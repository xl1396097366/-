q=1
c=3
q+c=b
